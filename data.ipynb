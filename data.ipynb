Data
To find the best location for our sushi bar, we will use the following sources of information:
New York has a total of 5 boroughs and 306 neighborhoods. In order to segement the neighborhoods and explore them, we will essentially need
a dataset that contains the 5 boroughs and the neighborhoods that exist in each borough as well as the the latitude and logitude
coordinates of each neighborhood. Luckily, this dataset exists for free on the web. Feel free to try to find this dataset on your own,
but here is the link to the dataset: https://geo.nyu.edu/catalog/nyu_2451_34572

From Foursquare Venues Categories - https://developer.foursquare.com/docs/resources/categories Sushi category Id - 4bf58dd8d48988d1d2941735
